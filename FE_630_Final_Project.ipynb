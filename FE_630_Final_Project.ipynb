{
  "nbformat": 4,
  "nbformat_minor": 0,
  "metadata": {
    "colab": {
      "provenance": []
    },
    "kernelspec": {
      "name": "python3",
      "display_name": "Python 3"
    },
    "language_info": {
      "name": "python"
    }
  },
  "cells": [
    {
      "cell_type": "markdown",
      "source": [
        "## FE-630 Final Project\n",
        "\n",
        "### Advisor: Papa Momar Ndiaye\n",
        "\n",
        "### Student: Riley Heiman\n",
        "\n",
        "### Date: Fall 2022"
      ],
      "metadata": {
        "id": "wBw7DwSmwWKv"
      }
    },
    {
      "cell_type": "code",
      "execution_count": null,
      "metadata": {
        "id": "r-qIZCsPut0f"
      },
      "outputs": [],
      "source": [
        "import os\n",
        "import pandas as pd\n",
        "import numpy as np\n",
        "import yfinance as yf"
      ]
    },
    {
      "cell_type": "code",
      "source": [
        "pip install yfinance\n"
      ],
      "metadata": {
        "id": "r-r66Vmu7j_4"
      },
      "execution_count": null,
      "outputs": []
    },
    {
      "cell_type": "markdown",
      "source": [
        "### Step 1: Get data from Fama French Web and calculate:\n",
        "\n",
        "\n",
        "$$ cov(R_t) = B \\Omega B^T + D $$\n",
        "\n",
        "Where: \n",
        "\n",
        "- $B$ = \n",
        "\n",
        "- $\\Omega$ = covariance of factors\n",
        "\n",
        "- $D = $ Diagonal matrix \n",
        "\n",
        "\n"
      ],
      "metadata": {
        "id": "854jCbVIu-V_"
      }
    },
    {
      "cell_type": "code",
      "source": [
        "#Gather etf data\n",
        "def gather_etf_data():\n",
        "\n",
        "  ticker_list = ['FXE','EWJ','GLD','QQQ','SPY','SHV', 'DBA','USO','XBI','ILF','EPP','FEZ']\n",
        "  etf_returns = yf.download(ticker_list,'2000-3-1')['Adj Close'].pct_change(1).dropna()\n",
        "  return etf_returns\n",
        "\n",
        "print(gather_etf_data()) "
      ],
      "metadata": {
        "id": "TREOkWZ8u9dV",
        "colab": {
          "base_uri": "https://localhost:8080/"
        },
        "outputId": "a52839bc-b7fb-46df-8312-06006ab423b7"
      },
      "execution_count": null,
      "outputs": [
        {
          "output_type": "stream",
          "name": "stdout",
          "text": [
            "[*********************100%***********************]  12 of 12 completed\n",
            "                 DBA       EPP       EWJ       FEZ       FXE       GLD  \\\n",
            "Date                                                                     \n",
            "2007-01-12  0.079681  0.015441  0.012978  0.007280  0.001937  0.025400   \n",
            "2007-01-16 -0.040590  0.004667  0.003559 -0.002595  0.000155 -0.003217   \n",
            "2007-01-17 -0.005000  0.002643  0.000000 -0.005946  0.000850  0.010812   \n",
            "2007-01-18  0.005025  0.001917 -0.000709 -0.003177  0.002626 -0.006066   \n",
            "2007-01-19 -0.005769  0.016821  0.007097  0.012376  0.000308  0.011886   \n",
            "...              ...       ...       ...       ...       ...       ...   \n",
            "2022-12-06 -0.007082  0.000000 -0.003104 -0.003774 -0.001447  0.002737   \n",
            "2022-12-07  0.001019 -0.005955  0.002931  0.002273  0.003934  0.009039   \n",
            "2022-12-08  0.000509  0.013594  0.006210  0.003779  0.004434  0.000842   \n",
            "2022-12-09 -0.005086  0.000227  0.003086 -0.003765 -0.002567  0.003544   \n",
            "2022-12-12  0.008691  0.002045 -0.000181  0.004535  0.000412 -0.008261   \n",
            "\n",
            "                 ILF       QQQ       SHV       SPY       USO       XBI  \n",
            "Date                                                                    \n",
            "2007-01-12  0.015682  0.005102  0.000552  0.007597  0.006540  0.015164  \n",
            "2007-01-16 -0.005685 -0.000662 -0.000185 -0.001955 -0.028904  0.000409  \n",
            "2007-01-17  0.003431 -0.008172  0.000552  0.000420  0.020305  0.001841  \n",
            "2007-01-18 -0.011516 -0.018481 -0.000092 -0.003356 -0.022388 -0.010617  \n",
            "2007-01-19  0.019114  0.002042 -0.000184  0.001964  0.027759  0.000825  \n",
            "...              ...       ...       ...       ...       ...       ...  \n",
            "2022-12-06  0.010757 -0.020720  0.000182 -0.014415 -0.036769 -0.027630  \n",
            "2022-12-07 -0.005913 -0.004083  0.000364 -0.001701 -0.024222  0.006204  \n",
            "2022-12-08 -0.008327  0.011835  0.000364  0.007834 -0.014768  0.006043  \n",
            "2022-12-09 -0.007597 -0.006377  0.000000 -0.007470  0.002232 -0.025129  \n",
            "2022-12-12 -0.014907  0.012551  0.000000  0.014417  0.024821  0.025148  \n",
            "\n",
            "[4008 rows x 12 columns]\n"
          ]
        }
      ]
    },
    {
      "cell_type": "code",
      "source": [
        "# Gather fama french data\n",
        "def gather_fama_data():\n",
        "  url = 'https://github.com/Riley25/FE-630/blob/main/3-factor-model-data_FE-630.xlsx?raw=true'\n",
        "\n",
        "  fama_data = pd.read_excel(url)\n",
        "  fama_data['Date'] = pd.to_datetime(fama_data[\"Date\"],format=\"%Y%m%d\")\n",
        "  fama_data = fama_data.set_index('Date')\n",
        "  return fama_data"
      ],
      "metadata": {
        "id": "M0uUR0lC-5nh"
      },
      "execution_count": null,
      "outputs": []
    },
    {
      "cell_type": "code",
      "source": [
        "def gather_all_data():\n",
        "  etf_returns = gather_etf_data()\n",
        "  fama_data = gather_fama_data()\n",
        "\n",
        "  # joined data sets\n",
        "  def annual_to_daily_rates(rates): return (1+np.array(rates))**(1/365)-1\n",
        "\n",
        "  df = pd.concat([etf_returns, fama_data], axis=1)\n",
        "  df = df.reset_index()\n",
        "  df = df[df['Date']>\"2007-03-01\"]\n",
        "  df = df[df['Date']<\"2022-10-31\"]\n",
        "  df = df.set_index('Date')\n",
        "  df['RF'] = annual_to_daily_rates(df['RF'])\n",
        "  \n",
        "  return df"
      ],
      "metadata": {
        "id": "9BZ-tmFu-5th"
      },
      "execution_count": null,
      "outputs": []
    },
    {
      "cell_type": "code",
      "source": [
        "sample_df =gather_all_data()\n",
        "print(sample_df.shape)\n"
      ],
      "metadata": {
        "colab": {
          "base_uri": "https://localhost:8080/"
        },
        "id": "tTtefXkD__lN",
        "outputId": "49a85ffa-1fce-4be6-cb63-3761bb6de8e2"
      },
      "execution_count": null,
      "outputs": [
        {
          "output_type": "stream",
          "name": "stdout",
          "text": [
            "[*********************100%***********************]  12 of 12 completed\n",
            "(3945, 16)\n"
          ]
        }
      ]
    },
    {
      "cell_type": "markdown",
      "source": [
        "### Step 2: \n",
        "\n",
        "Write some functions \n",
        "\n",
        "- Two objective functions"
      ],
      "metadata": {
        "id": "iveojIgNvqU6"
      }
    },
    {
      "cell_type": "markdown",
      "source": [],
      "metadata": {
        "id": "w67GoKVCGeWK"
      }
    },
    {
      "cell_type": "code",
      "source": [
        "# CAPM to get betas\n",
        "def lm_values_single(df, xvar, yvar):\n",
        "    if xvar==yvar: return 1\n",
        "    from sklearn.linear_model import LinearRegression\n",
        "\n",
        "    plot_mdf3 = df[[xvar, yvar]]\n",
        "    plot_mdf3 = plot_mdf3[plot_mdf3[xvar].notnull()]\n",
        "    plot_mdf3 = plot_mdf3[plot_mdf3[yvar].notnull()]\n",
        "\n",
        "    x = np.array(plot_mdf3[xvar]).reshape((-1,1))\n",
        "    y = np.array(plot_mdf3[yvar])\n",
        "\n",
        "    # BUILD THE MODEL\n",
        "    model = LinearRegression()\n",
        "    model.fit(x,y)\n",
        "    \n",
        "    r_sq = model.score(x,y)\n",
        "\n",
        "    y_pred = model.predict(x)\n",
        "    y_pred = model.intercept_ + model.coef_ * x\n",
        "    \n",
        "    residuals = (y - y_pred)\n",
        "    std_residuals = np.var(residuals)\n",
        "\n",
        "    r2 = round(r_sq,2)\n",
        "    m = round(float(model.coef_), 3)\n",
        "    b = round(float(model.intercept_) , 2)\n",
        "\n",
        "    return m"
      ],
      "metadata": {
        "id": "qc7KY0KDu9hX"
      },
      "execution_count": null,
      "outputs": []
    },
    {
      "cell_type": "markdown",
      "source": [],
      "metadata": {
        "id": "bNhBXz6_wIZv"
      }
    },
    {
      "cell_type": "code",
      "source": [
        "# Fama French Betas\n",
        "def lm_values_multi(df, xvar, yvar):\n",
        "    \n",
        "    from sklearn.linear_model import LinearRegression\n",
        "    l = len(xvar)\n",
        "    vars_to_keep = []\n",
        "    vars_to_keep.extend(xvar); vars_to_keep.extend(yvar)\n",
        "\n",
        "    subset_mdf3 = df[vars_to_keep]\n",
        "\n",
        "    x = np.array(subset_mdf3[xvar])\n",
        "    y = np.array(subset_mdf3[yvar])\n",
        "\n",
        "    # BUILD THE MODEL\n",
        "    model = LinearRegression()\n",
        "    model.fit(x,y)\n",
        "    \n",
        "    r_sq = model.score(x,y)\n",
        "\n",
        "    y_pred = model.predict(x)\n",
        "    y_pred = model.intercept_ + model.coef_ * x\n",
        "    \n",
        "    residuals = (y - y_pred)\n",
        "    std_residuals = np.var(residuals)\n",
        "\n",
        "    r2 = (r_sq)\n",
        "    BETA = ((model.coef_))\n",
        "    ALPHA = (float(model.intercept_) )\n",
        "\n",
        "    return(ALPHA, BETA, std_residuals)"
      ],
      "metadata": {
        "id": "50ulOvnpu9lF"
      },
      "execution_count": null,
      "outputs": []
    },
    {
      "cell_type": "code",
      "source": [
        "sample_df = pd.DataFrame({'QQQ': [.01, 1, .025], \n",
        "                         'x1': [0.1, 0.45,0.17],\n",
        "                         'x2':[.35,.45,.001]})"
      ],
      "metadata": {
        "id": "5GYnNScwu9ov"
      },
      "execution_count": null,
      "outputs": []
    },
    {
      "cell_type": "code",
      "source": [
        "lm_values_multi(sample_df, ['x1', 'x2'], ['QQQ'])  "
      ],
      "metadata": {
        "id": "zV7bqG7Vu9sz",
        "colab": {
          "base_uri": "https://localhost:8080/"
        },
        "outputId": "b1a21f68-bf7f-48ad-9003-369012edfaa8"
      },
      "execution_count": null,
      "outputs": [
        {
          "output_type": "execute_result",
          "data": {
            "text/plain": [
              "(-0.43226480836236936, array([[2.68687573, 0.49593496]]), 0.15274381771987658)"
            ]
          },
          "metadata": {},
          "execution_count": 13
        }
      ]
    },
    {
      "cell_type": "code",
      "source": [
        "ticker_list = ['FXE','EWJ','GLD','QQQ','SPY','SHV','DBA','USO','XBI','ILF','EPP','FEZ']\n",
        "\n",
        "# Build Matrices\n",
        "def build_BETA_matrix(df): \n",
        "  return np.array([lm_values_multi(df,['Mkt-RF','SMB','HML'],[stock])[1][0] for stock in ticker_list])\n",
        "\n",
        "def get_OMEGA(df): return df[['Mkt-RF','SMB','HML']].cov()\n",
        "\n",
        "def get_DIAGONAL(df): return np.diag([lm_values_multi(df,['Mkt-RF','SMB','HML'],[stock])[2] for stock in ticker_list])\n",
        "\n",
        "def get_SIGMA(beta,omega,diag): return np.matmul(np.matmul(beta, omega),beta.T)+diag\n",
        "  \n",
        "def get_RHO(df): return [lm_values_multi(df,['Mkt-RF','SMB','HML'],[stock])[0] for stock in ticker_list]\n",
        "\n",
        "def build_CAPM_matrix(df):\n",
        "  capm = []\n",
        "  for stock in ticker_list:\n",
        "    capmi = lm_values_single(df,\"SPY\",stock)\n",
        "    capm.append(capmi)\n",
        "  return capm"
      ],
      "metadata": {
        "id": "yq-zsSG6JMO2"
      },
      "execution_count": null,
      "outputs": []
    },
    {
      "cell_type": "code",
      "source": [
        "# Optimize Portfolio\n",
        "\n",
        "def PORT(MATRIX_RETURNS, COVARIANCE_MATRIX, BETA_MATRIX ,LAMBDA = 0.0):\n",
        "    from scipy.optimize import minimize \n",
        "    def objective(weights): \n",
        "        weights = np.array(weights)\n",
        "        #print(weights)\n",
        "        return( -1*MATRIX_RETURNS.T.dot( weights ) + LAMBDA*np.sqrt( weights.T.dot(COVARIANCE_MATRIX).dot(weights) ) )\n",
        "\n",
        "    # The weights must sum up to one. \n",
        "    cons = ( {\"type\":\"eq\", \"fun\": lambda weights:np.array(np.sum(weights)-1)} ,      \n",
        "             {\"type\":\"ineq\", \"fun\": lambda weights: np.array( [3.5 + np.sum(BETA_MATRIX*weights)]) } , \n",
        "             {\"type\":\"ineq\", \"fun\": lambda weights: np.array( [3.5 - np.sum(BETA_MATRIX*weights)]) } )\n",
        "\n",
        "    #cons = ( {\"type\":\"eq\", \"fun\": lambda weights:np.array(np.sum(weights)-1)} )\n",
        "\n",
        "    # Every weight must be between -2 and 2\n",
        "    bounds = tuple( (-2, 2) for x in range(MATRIX_RETURNS.shape[0]) ) \n",
        "     \n",
        "    guess = [0.1 for x in range(MATRIX_RETURNS.shape[0])]\n",
        "\n",
        "    optimized_results = minimize(objective, guess, method = \"SLSQP\",  # Nelder-Mead\n",
        "                                 bounds=bounds, constraints=cons)\n",
        "    w = optimized_results.x\n",
        "    return(w)  "
      ],
      "metadata": {
        "id": "4CggFOZAJMV4"
      },
      "execution_count": null,
      "outputs": []
    },
    {
      "cell_type": "code",
      "source": [
        "MATRIX_RETURNS = np.array([0.056782, 0.119096, 0.238250]).reshape(3,1)\n",
        "\n",
        "BETA_MATRIX = np.array([.5, .45, -.25]).reshape(3,1)\n",
        "\n",
        "COVARIANCE_MATRIX = np.array( [[3.41550211e-04, 7.85028502e-05, 8.01693547e-05],\n",
        "                              [7.85028502e-05, 1.44469014e-04, 6.62561744e-05],\n",
        "                              [8.01693547e-05, 6.62561744e-05, 1.68821444e-04]] ).reshape(3,3)"
      ],
      "metadata": {
        "id": "GjCyxykRR16I"
      },
      "execution_count": null,
      "outputs": []
    },
    {
      "cell_type": "code",
      "source": [
        "w = PORT(MATRIX_RETURNS, COVARIANCE_MATRIX, BETA_MATRIX ,LAMBDA = 1.0)     "
      ],
      "metadata": {
        "id": "D72MUgeKJMba"
      },
      "execution_count": null,
      "outputs": []
    },
    {
      "cell_type": "code",
      "source": [
        "import matplotlib.pyplot as plt\n",
        "\n",
        "b = build_BETA_matrix(df)\n",
        "o = get_OMEGA(df)\n",
        "d = get_DIAGONAL(df)\n",
        "s = np.array(get_SIGMA(b,o,d))\n",
        "r = np.array(get_RHO(df))\n",
        "c = np.array(build_CAPM_matrix(df))\n",
        "\n",
        "port_risks = []\n",
        "port_returns = []\n",
        "\n",
        "for lambda_input in np.linspace(0,1,200):\n",
        "  w = PORT(r,s,c,LAMBDA=lambda_input)\n",
        "  port_return = r.T.dot(w)\n",
        "  port_risk = (np.matmul(w.T,np.matmul(s,w)))**0.5 \n",
        "  \n",
        "  port_returns.append(port_return)\n",
        "  port_risks.append(port_risk)\n",
        "\n",
        "plt.scatter(port_risks,port_returns)"
      ],
      "metadata": {
        "id": "VSxQa1BER-LX",
        "colab": {
          "base_uri": "https://localhost:8080/",
          "height": 283
        },
        "outputId": "84ebddc7-8aa0-4d61-c0fd-9a469c2408a3"
      },
      "execution_count": null,
      "outputs": [
        {
          "output_type": "execute_result",
          "data": {
            "text/plain": [
              "<matplotlib.collections.PathCollection at 0x7f50e4387850>"
            ]
          },
          "metadata": {},
          "execution_count": 20
        },
        {
          "output_type": "display_data",
          "data": {
            "text/plain": [
              "<Figure size 432x288 with 1 Axes>"
            ],
            "image/png": "[encoded data removed]"
          },
          "metadata": {
            "needs_background": "light"
          }
        }
      ]
    },
    {
      "cell_type": "code",
      "source": [
        "from scipy.stats import skew,kurtosis, norm\n",
        "\n",
        "sample_returns = [0.02,0.01,-0.04,0.06,-0.01,0.02,0,0,-0.02,0.01,-0.02,0,0,-0.01,0.01,-0.026]\n",
        "\n",
        "def arithmetic_mean_returns(returns): return sum(returns)/len(returns)\n",
        "def geometric_mean_returns(returns): return np.product(1+np.array(returns))**(1/len(returns))-1\n",
        "def sharpe_ratio(returns,rf): return ((1+arithmetic_mean_returns(returns))**365-1-rf)/np.std(returns)\n",
        "def skewness(returns): return skew(returns)\n",
        "def stock_kurtosis(returns): return kurtosis(returns) # excess kurtosis\n",
        "def min_return(returns): return np.min(returns)\n",
        "def annual_volatility(returns): return np.std(returns) * (52)**0.5\n",
        "def var_95(returns): return norm.ppf(0.05, arithmetic_mean_returns(returns), np.std(returns))\n",
        "def emp_var_95(returns): return np.percentile(returns, 100 * 0.05)\n",
        "def emp_cvar_95(returns): return np.nanmean(returns[returns < emp_var_95(returns)])\n",
        "def get_daily_returns(returns): return [(np.array(returns)+1)**(1/5)-1]\n",
        "\n",
        "sharpe_ratio(sample_returns,0.01)\n",
        "arithmetic_mean_returns(sample_returns)\n",
        "geometric_mean_returns(sample_returns)\n",
        "skewness(sample_returns)\n",
        "stock_kurtosis(sample_returns)\n",
        "print(emp_var_95(sample_returns))\n",
        "print(get_daily_returns(sample_returns))"
      ],
      "metadata": {
        "id": "DpmPjNmHR_j0",
        "colab": {
          "base_uri": "https://localhost:8080/"
        },
        "outputId": "a8fb9422-fc1d-49f1-90c1-4a063d254626"
      },
      "execution_count": null,
      "outputs": [
        {
          "output_type": "stream",
          "name": "stdout",
          "text": [
            "-0.0295\n",
            "[array([ 0.00396838,  0.00199205, -0.00813116,  0.01172195, -0.00200805,\n",
            "        0.00396838,  0.        ,  0.        , -0.00403239,  0.00199205,\n",
            "       -0.00403239,  0.        ,  0.        , -0.00200805,  0.00199205,\n",
            "       -0.00525494])]\n"
          ]
        }
      ]
    },
    {
      "cell_type": "code",
      "source": [
        "\n",
        "def PORT_2(MATRIX_RETURNS, COVARIANCE_MATRIX, BETA_MATRIX , r, r_spy, LAMBDA = 0.0):\n",
        "\n",
        "    def covar(r):\n",
        "      df = pd.DataFrame(r)\n",
        "      covariances = []\n",
        "      for ticker in ticker_list:\n",
        "        cov = np.cov(np.array(df[ticker]),np.array(df['SPY']))[0][1]\n",
        "        covariances.append(cov)\n",
        "      return covariances\n",
        "\n",
        "    from scipy.optimize import minimize\n",
        "    def objective(weights): \n",
        "        weights = np.array(weights) \n",
        "        port_return = np.matmul(r ,weights)\n",
        "        a = np.matmul(np.matmul(weights.T,(COVARIANCE_MATRIX)),weights)\n",
        "        covariance = covar(r)\n",
        "        b = np.matmul(weights.T, covariance )\n",
        "        c = np.var(r_spy)\n",
        "        if a - b + c < 0:\n",
        "          print(\"NEGATIVE TEV\",\"A\", a,\"B\",b,\"C\",c,\"TEV\",a-b+c)\n",
        "        TEV = np.sqrt(a  - b +  c)\n",
        "    \n",
        "        return( (-1*MATRIX_RETURNS.T.dot( weights ) / TEV ) + LAMBDA*np.sqrt( weights.T.dot(COVARIANCE_MATRIX).dot(weights) ) )\n",
        "\n",
        "    # The weights must sum up to one. \n",
        "    cons = ( {\"type\":\"eq\", \"fun\": lambda weights:np.array(np.sum(weights)-1)} ,      \n",
        "             {\"type\":\"ineq\", \"fun\": lambda weights: np.array( [1.0 + np.sum(BETA_MATRIX*weights)]) } , \n",
        "             {\"type\":\"ineq\", \"fun\": lambda weights: np.array( [2.0 - np.sum(BETA_MATRIX*weights)]) } )\n",
        "\n",
        "    #cons = ( {\"type\":\"eq\", \"fun\": lambda weights:np.array(np.sum(weights)-1)} )\n",
        "\n",
        "    # Every weight must be between -2 and 2\n",
        "    bounds = tuple( (-2, 2) for x in range(MATRIX_RETURNS.shape[0]) ) \n",
        "     \n",
        "    guess = [0.01 for x in range(MATRIX_RETURNS.shape[0])]\n",
        "\n",
        "    optimized_results = minimize(objective, guess, method = \"SLSQP\",  # Nelder-Mead\n",
        "                                 bounds=bounds, constraints=cons)\n",
        "    w = optimized_results.x\n",
        "    return(w)  \n",
        "\n"
      ],
      "metadata": {
        "id": "Vt2cOFLg9OMZ"
      },
      "execution_count": null,
      "outputs": []
    },
    {
      "cell_type": "code",
      "source": [
        "# run for entire space\n",
        "def get_weights(df,lambda_input=0.5):\n",
        "  b = build_BETA_matrix(df)\n",
        "  o = get_OMEGA(df)\n",
        "  d = get_DIAGONAL(df)\n",
        "  s = np.array(get_SIGMA(b,o,d))\n",
        "  r = np.array(get_RHO(df))\n",
        "  c = np.array(build_CAPM_matrix(df))\n",
        "\n",
        "  w1 = PORT(r,s,c,LAMBDA=lambda_input)\n",
        "  w2 = PORT_2(r,s,c,df[ticker_list],df['SPY'],LAMBDA = lambda_input)\n",
        "\n",
        "  return w1, w2"
      ],
      "metadata": {
        "id": "3FgN5A2K9Y1_"
      },
      "execution_count": null,
      "outputs": []
    },
    {
      "cell_type": "code",
      "source": [
        "def subset_gatherdata(df, start_date, end_date, ticker_list, just_ETF = True ):\n",
        "    date_included = df.reset_index()\n",
        "    sub_df = date_included[ (date_included['Date'] <= str(end_date)) &  (date_included['Date'] >= str(start_date))]\n",
        "    sub_df = sub_df.set_index('Date')\n",
        "    if just_ETF == True: sub_df = sub_df[ticker_list]\n",
        "    return(sub_df)"
      ],
      "metadata": {
        "id": "h8DkAJxHK8qQ"
      },
      "execution_count": null,
      "outputs": []
    },
    {
      "cell_type": "code",
      "source": [
        "import datetime as dt\n",
        "\n",
        "def portfolio_get_returns(returns,weights):\n",
        "  ticker_list = ['FXE','EWJ','GLD','QQQ','SPY','SHV','DBA','USO','XBI','ILF','EPP','FEZ']\n",
        "  df = pd.DataFrame(returns)\n",
        "  rets = [np.product(1+np.array(df[ticker]))-1 for ticker in ticker_list]\n",
        "  return np.matmul(np.array(weights).T,rets)\n",
        "\n",
        "def main(window_size=180):\n",
        "  ticker_list = ['FXE','EWJ','GLD','QQQ','SPY','SHV','DBA','USO','XBI','ILF','EPP','FEZ']\n",
        "  df = gather_all_data()\n",
        "  t = dt.date(2007,3,1)\n",
        "  return_series_1 = []\n",
        "  return_series_2 = []\n",
        "  x_series = []\n",
        "\n",
        "  while True:\n",
        "    print(t)\n",
        "    x_series.append(t)\n",
        "\n",
        "    t1 = t-dt.timedelta(window_size)\n",
        "    t2 = t-dt.timedelta(1)\n",
        "    t3 = t+dt.timedelta(5)\n",
        "\n",
        "    sub = subset_gatherdata(df,t1,t2,ticker_list,False).dropna()\n",
        "    w1,w2 = get_weights(sub,0.3)\n",
        "    returns = subset_gatherdata(df,t,t3,ticker_list,True)\n",
        "    p1 = portfolio_get_returns(returns,w1)\n",
        "    p2 = portfolio_get_returns(returns,w2)\n",
        "    return_series_1.append(p1)\n",
        "    return_series_2.append(p2)\n",
        "\n",
        "    if t > dt.date(2022,10,31):\n",
        "      print('breaking') \n",
        "      break\n",
        "    t += dt.timedelta(days=7)\n",
        "\n",
        "  return pd.DataFrame({\"Date\":x_series, \"Returns_1\":return_series_1,\"Returns_2\":return_series_2})\n",
        "\n",
        "df = main()\n",
        "df.to_csv(\"run11.csv\")\n",
        "from google.colab import files\n",
        "files.download(\"run11.csv\")\n",
        "\n",
        "# run 1: lambda = 0.5, window = 40\n",
        "# run 2: lambda = 0.5, window = 90\n",
        "# run 3: lambda = 0.5, window = 180\n",
        "\n",
        "# run 4: lambda = 0.7, window = 40\n",
        "# run 5: lambda = 0.7, window = 90\n",
        "# run 6: lambda = 0.7, window = 180\n",
        "\n",
        "# run 7: spy data\n",
        "\n",
        "# run 8: lambda = 0.5, window = 40 again with weights\n",
        "\n",
        "# run 9: lambda = 0.3, window = 40\n",
        "# run 10: lambda = 0.3, window = 90\n",
        "# run 11: lambda = 0.3, window = 180\n",
        "\n",
        "# run 12: lambda = 0.1, window = 40\n",
        "# run 13: lambda = 0.1, window = 90\n",
        "# run 14: lambda = 0.1, window = 180\n"
      ],
      "metadata": {
        "colab": {
          "base_uri": "https://localhost:8080/"
        },
        "id": "nMDygdUJN679",
        "outputId": "840c0ef4-1880-4d56-8a11-37d0654244c5"
      },
      "execution_count": null,
      "outputs": [
        {
          "output_type": "stream",
          "name": "stdout",
          "text": [
            "[*********************100%***********************]  12 of 12 completed\n",
            "2007-03-01\n",
            "2007-03-08\n",
            "2007-03-15\n",
            "2007-03-22\n",
            "2007-03-29\n",
            "2007-04-05\n",
            "2007-04-12\n",
            "2007-04-19\n",
            "2007-04-26\n",
            "2007-05-03\n",
            "2007-05-10\n",
            "2007-05-17\n",
            "2007-05-24\n",
            "2007-05-31\n",
            "2007-06-07\n",
            "2007-06-14\n",
            "2007-06-21\n",
            "2007-06-28\n",
            "2007-07-05\n",
            "2007-07-12\n",
            "2007-07-19\n",
            "2007-07-26\n",
            "2007-08-02\n",
            "2007-08-09\n",
            "2007-08-16\n",
            "2007-08-23\n",
            "2007-08-30\n",
            "2007-09-06\n",
            "2007-09-13\n",
            "2007-09-20\n",
            "2007-09-27\n",
            "2007-10-04\n",
            "2007-10-11\n",
            "2007-10-18\n",
            "2007-10-25\n",
            "2007-11-01\n",
            "2007-11-08\n",
            "2007-11-15\n",
            "2007-11-22\n",
            "2007-11-29\n",
            "2007-12-06\n",
            "2007-12-13\n",
            "2007-12-20\n",
            "2007-12-27\n",
            "2008-01-03\n",
            "2008-01-10\n",
            "2008-01-17\n",
            "2008-01-24\n",
            "2008-01-31\n",
            "2008-02-07\n",
            "2008-02-14\n",
            "2008-02-21\n",
            "2008-02-28\n",
            "2008-03-06\n",
            "2008-03-13\n",
            "2008-03-20\n",
            "2008-03-27\n",
            "2008-04-03\n",
            "2008-04-10\n",
            "2008-04-17\n",
            "2008-04-24\n",
            "2008-05-01\n",
            "2008-05-08\n",
            "2008-05-15\n",
            "2008-05-22\n",
            "2008-05-29\n",
            "2008-06-05\n",
            "2008-06-12\n",
            "2008-06-19\n",
            "2008-06-26\n",
            "2008-07-03\n",
            "2008-07-10\n",
            "2008-07-17\n",
            "2008-07-24\n",
            "2008-07-31\n",
            "2008-08-07\n",
            "2008-08-14\n",
            "2008-08-21\n",
            "2008-08-28\n",
            "2008-09-04\n",
            "2008-09-11\n",
            "2008-09-18\n",
            "2008-09-25\n",
            "2008-10-02\n",
            "2008-10-09\n",
            "2008-10-16\n",
            "2008-10-23\n",
            "2008-10-30\n",
            "2008-11-06\n",
            "2008-11-13\n",
            "2008-11-20\n",
            "2008-11-27\n",
            "2008-12-04\n",
            "2008-12-11\n",
            "2008-12-18\n",
            "2008-12-25\n",
            "2009-01-01\n",
            "2009-01-08\n",
            "2009-01-15\n",
            "2009-01-22\n",
            "2009-01-29\n",
            "2009-02-05\n",
            "2009-02-12\n",
            "2009-02-19\n",
            "2009-02-26\n",
            "2009-03-05\n",
            "2009-03-12\n",
            "2009-03-19\n",
            "2009-03-26\n",
            "2009-04-02\n",
            "2009-04-09\n",
            "2009-04-16\n",
            "2009-04-23\n",
            "2009-04-30\n",
            "2009-05-07\n",
            "2009-05-14\n",
            "2009-05-21\n",
            "2009-05-28\n",
            "2009-06-04\n",
            "2009-06-11\n",
            "2009-06-18\n",
            "2009-06-25\n",
            "2009-07-02\n",
            "2009-07-09\n",
            "2009-07-16\n",
            "2009-07-23\n",
            "2009-07-30\n",
            "2009-08-06\n",
            "2009-08-13\n",
            "2009-08-20\n",
            "2009-08-27\n",
            "2009-09-03\n",
            "2009-09-10\n",
            "2009-09-17\n",
            "2009-09-24\n",
            "2009-10-01\n",
            "2009-10-08\n",
            "2009-10-15\n",
            "2009-10-22\n",
            "2009-10-29\n",
            "2009-11-05\n",
            "2009-11-12\n",
            "2009-11-19\n",
            "2009-11-26\n",
            "2009-12-03\n",
            "2009-12-10\n",
            "2009-12-17\n",
            "2009-12-24\n",
            "2009-12-31\n",
            "2010-01-07\n",
            "2010-01-14\n",
            "2010-01-21\n",
            "2010-01-28\n",
            "2010-02-04\n",
            "2010-02-11\n",
            "2010-02-18\n",
            "2010-02-25\n",
            "2010-03-04\n",
            "2010-03-11\n",
            "2010-03-18\n",
            "2010-03-25\n",
            "2010-04-01\n",
            "2010-04-08\n",
            "2010-04-15\n",
            "2010-04-22\n",
            "2010-04-29\n",
            "2010-05-06\n",
            "2010-05-13\n",
            "2010-05-20\n",
            "2010-05-27\n",
            "2010-06-03\n",
            "2010-06-10\n",
            "2010-06-17\n",
            "2010-06-24\n",
            "2010-07-01\n",
            "2010-07-08\n",
            "2010-07-15\n",
            "2010-07-22\n",
            "2010-07-29\n",
            "2010-08-05\n",
            "2010-08-12\n",
            "2010-08-19\n"
          ]
        }
      ]
    },
    {
      "cell_type": "code",
      "source": [
        "df = pd.DataFrame({\"x\":[1,2,3],\"y\":[1,4,9]})\n",
        "df.to_csv(\"data.csv\")\n",
        "\n"
      ],
      "metadata": {
        "colab": {
          "base_uri": "https://localhost:8080/",
          "height": 17
        },
        "id": "PRKWMzjTxhC5",
        "outputId": "f9582568-ac5e-4d57-b44e-22ad813b5a43"
      },
      "execution_count": null,
      "outputs": [
        {
          "output_type": "display_data",
          "data": {
            "text/plain": [
              "<IPython.core.display.Javascript object>"
            ],
            "application/javascript": [
              "\n",
              "    async function download(id, filename, size) {\n",
              "      if (!google.colab.kernel.accessAllowed) {\n",
              "        return;\n",
              "      }\n",
              "      const div = document.createElement('div');\n",
              "      const label = document.createElement('label');\n",
              "      label.textContent = `Downloading \"${filename}\": `;\n",
              "      div.appendChild(label);\n",
              "      const progress = document.createElement('progress');\n",
              "      progress.max = size;\n",
              "      div.appendChild(progress);\n",
              "      document.body.appendChild(div);\n",
              "\n",
              "      const buffers = [];\n",
              "      let downloaded = 0;\n",
              "\n",
              "      const channel = await google.colab.kernel.comms.open(id);\n",
              "      // Send a message to notify the kernel that we're ready.\n",
              "      channel.send({})\n",
              "\n",
              "      for await (const message of channel.messages) {\n",
              "        // Send a message to notify the kernel that we're ready.\n",
              "        channel.send({})\n",
              "        if (message.buffers) {\n",
              "          for (const buffer of message.buffers) {\n",
              "            buffers.push(buffer);\n",
              "            downloaded += buffer.byteLength;\n",
              "            progress.value = downloaded;\n",
              "          }\n",
              "        }\n",
              "      }\n",
              "      const blob = new Blob(buffers, {type: 'application/binary'});\n",
              "      const a = document.createElement('a');\n",
              "      a.href = window.URL.createObjectURL(blob);\n",
              "      a.download = filename;\n",
              "      div.appendChild(a);\n",
              "      a.click();\n",
              "      div.remove();\n",
              "    }\n",
              "  "
            ]
          },
          "metadata": {}
        },
        {
          "output_type": "display_data",
          "data": {
            "text/plain": [
              "<IPython.core.display.Javascript object>"
            ],
            "application/javascript": [
              "download(\"download_cdad226a-d874-4d6c-9ddc-68f048c94d80\", \"data.csv\", 23)"
            ]
          },
          "metadata": {}
        }
      ]
    },
    {
      "cell_type": "markdown",
      "source": [
        "### Quuestions\n",
        "\n",
        "$$ cov(\\epsilon_i , \\epsilon_j)= \n",
        "\\left\\{\n",
        "\\begin{array}{ll} \n",
        "     \\sigma_i^2 \\: when \\: i =j  & \\\\\n",
        "      0 \\: otherwise\n",
        "\\end{array} \n",
        "\\right.  $$ "
      ],
      "metadata": {
        "id": "YcQeW_6XwZYG"
      }
    },
    {
      "cell_type": "code",
      "source": [
        "c = np.array(a)-1\n",
        "plt.hist(c)\n",
        "print(np.std(c))"
      ],
      "metadata": {
        "colab": {
          "base_uri": "https://localhost:8080/",
          "height": 283
        },
        "id": "uWrREalogdyK",
        "outputId": "9b4d1f45-e531-41c1-d839-6fbce48a2fbf"
      },
      "execution_count": null,
      "outputs": [
        {
          "output_type": "stream",
          "name": "stdout",
          "text": [
            "0.5377288128297139\n"
          ]
        },
        {
          "output_type": "display_data",
          "data": {
            "text/plain": [
              "<Figure size 432x288 with 1 Axes>"
            ],
            "image/png": "[encoded data removed]"
          },
          "metadata": {
            "needs_background": "light"
          }
        }
      ]
    },
    {
      "cell_type": "code",
      "source": [
        "np.cov([1,1,1], [1,1,1]) "
      ],
      "metadata": {
        "colab": {
          "base_uri": "https://localhost:8080/"
        },
        "id": "hFGD9LhzwY6V",
        "outputId": "24d26413-2b1d-40bd-d6ef-898daac369ad"
      },
      "execution_count": null,
      "outputs": [
        {
          "output_type": "execute_result",
          "data": {
            "text/plain": [
              "array([[0., 0.],\n",
              "       [0., 0.]])"
            ]
          },
          "metadata": {},
          "execution_count": 2
        }
      ]
    }
  ]
}