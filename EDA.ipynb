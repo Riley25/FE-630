{
 "cells": [
  {
   "cell_type": "code",
   "execution_count": 1,
   "metadata": {},
   "outputs": [],
   "source": [
    "import pandas as pd\n",
    "import numpy as np\n",
    "\n",
    "import matplotlib \n",
    "import matplotlib.pyplot as plt\n",
    "import seaborn as sns\n",
    "from scipy.stats import skew,kurtosis\n",
    "\n",
    "import os"
   ]
  },
  {
   "cell_type": "code",
   "execution_count": 2,
   "metadata": {},
   "outputs": [],
   "source": [
    "def get_daily_returns(returns): return [(np.array(returns)+1)**(1/5)-1]     "
   ]
  },
  {
   "cell_type": "code",
   "execution_count": 3,
   "metadata": {},
   "outputs": [
    {
     "data": {
      "text/html": [
       "<div>\n",
       "<style scoped>\n",
       "    .dataframe tbody tr th:only-of-type {\n",
       "        vertical-align: middle;\n",
       "    }\n",
       "\n",
       "    .dataframe tbody tr th {\n",
       "        vertical-align: top;\n",
       "    }\n",
       "\n",
       "    .dataframe thead th {\n",
       "        text-align: right;\n",
       "    }\n",
       "</style>\n",
       "<table border=\"1\" class=\"dataframe\">\n",
       "  <thead>\n",
       "    <tr style=\"text-align: right;\">\n",
       "      <th></th>\n",
       "      <th>SPY</th>\n",
       "    </tr>\n",
       "    <tr>\n",
       "      <th>Date</th>\n",
       "      <th></th>\n",
       "    </tr>\n",
       "  </thead>\n",
       "  <tbody>\n",
       "    <tr>\n",
       "      <th>2007-03-01</th>\n",
       "      <td>-0.008727</td>\n",
       "    </tr>\n",
       "    <tr>\n",
       "      <th>2007-03-08</th>\n",
       "      <td>-0.009387</td>\n",
       "    </tr>\n",
       "    <tr>\n",
       "      <th>2007-03-15</th>\n",
       "      <td>0.016148</td>\n",
       "    </tr>\n",
       "    <tr>\n",
       "      <th>2007-03-22</th>\n",
       "      <td>-0.003001</td>\n",
       "    </tr>\n",
       "    <tr>\n",
       "      <th>2007-03-29</th>\n",
       "      <td>0.013186</td>\n",
       "    </tr>\n",
       "  </tbody>\n",
       "</table>\n",
       "</div>"
      ],
      "text/plain": [
       "                 SPY\n",
       "Date                \n",
       "2007-03-01 -0.008727\n",
       "2007-03-08 -0.009387\n",
       "2007-03-15  0.016148\n",
       "2007-03-22 -0.003001\n",
       "2007-03-29  0.013186"
      ]
     },
     "execution_count": 3,
     "metadata": {},
     "output_type": "execute_result"
    }
   ],
   "source": [
    "spy = pd.read_csv('data/spy_data.csv', low_memory = False )\n",
    "spy['Date'] = pd.to_datetime(spy['Date'])\n",
    "spy = spy.set_index('Date')\n",
    "spy.head()  "
   ]
  },
  {
   "cell_type": "code",
   "execution_count": 4,
   "metadata": {},
   "outputs": [],
   "source": [
    "spy_PNL = spy.cumsum()   "
   ]
  },
  {
   "cell_type": "code",
   "execution_count": 5,
   "metadata": {},
   "outputs": [],
   "source": [
    "\n",
    "#df40 = pd.read_csv('data/lam(0.5)window(180).csv', low_memory = False )\n",
    "#df90 = pd.read_csv('data/lam(0.5)window(90).csv', low_memory = False )\n",
    "#df180 = pd.read_csv('data/lam(0.5)window(40).csv', low_memory = False )  \n",
    "\n",
    "df40 = pd.read_csv('data/lam(0.7)window(40).csv', low_memory= False)\n",
    "df90 = pd.read_csv('data/lam(0.7)window(90).csv', low_memory=False)\n",
    "df180 = pd.read_csv('data/lam(0.7)window(180).csv', low_memory=False)\n",
    "\n",
    "#df40 = pd.read_csv('data/lam(0.3)window(40).csv', low_memory=False)\n",
    "#df90 = pd.read_csv('data/lam(0.3)window(90).csv', low_memory=False)\n",
    "#df180 = pd.read_csv('data/lam(0.3)window(180).csv', low_memory=False)\n"
   ]
  },
  {
   "cell_type": "code",
   "execution_count": 6,
   "metadata": {},
   "outputs": [],
   "source": [
    "df40['Date'] = pd.to_datetime(df40['Date'])\n",
    "df90['Date'] = pd.to_datetime(df90['Date'])\n",
    "df180['Date'] = pd.to_datetime(df180['Date']) \n",
    "\n",
    "df40 = df40.set_index('Date')\n",
    "df90 = df90.set_index('Date')\n",
    "df180 = df180.set_index('Date')"
   ]
  },
  {
   "cell_type": "code",
   "execution_count": 7,
   "metadata": {},
   "outputs": [],
   "source": [
    "df40['Returns_1_pct'] = list(get_daily_returns(df40['Returns_1'])[0]*100)\n",
    "df90['Returns_1_pct'] = list(get_daily_returns(df90['Returns_1'])[0]*100)\n",
    "df180['Returns_1_pct'] = list(get_daily_returns(df180['Returns_1'])[0]*100) \n",
    "\n",
    "df40['Returns_2_pct'] = list(get_daily_returns(df40['Returns_2'])[0]*100)\n",
    "df90['Returns_2_pct'] = list(get_daily_returns(df90['Returns_2'])[0]*100)\n",
    "df180['Returns_2_pct'] = list(get_daily_returns(df180['Returns_2'])[0]*100) "
   ]
  },
  {
   "cell_type": "code",
   "execution_count": 8,
   "metadata": {},
   "outputs": [
    {
     "data": {
      "text/html": [
       "<div>\n",
       "<style scoped>\n",
       "    .dataframe tbody tr th:only-of-type {\n",
       "        vertical-align: middle;\n",
       "    }\n",
       "\n",
       "    .dataframe tbody tr th {\n",
       "        vertical-align: top;\n",
       "    }\n",
       "\n",
       "    .dataframe thead th {\n",
       "        text-align: right;\n",
       "    }\n",
       "</style>\n",
       "<table border=\"1\" class=\"dataframe\">\n",
       "  <thead>\n",
       "    <tr style=\"text-align: right;\">\n",
       "      <th></th>\n",
       "      <th>Returns_1</th>\n",
       "      <th>Returns_2</th>\n",
       "      <th>Returns_1_pct</th>\n",
       "      <th>Returns_2_pct</th>\n",
       "    </tr>\n",
       "    <tr>\n",
       "      <th>Date</th>\n",
       "      <th></th>\n",
       "      <th></th>\n",
       "      <th></th>\n",
       "      <th></th>\n",
       "    </tr>\n",
       "  </thead>\n",
       "  <tbody>\n",
       "    <tr>\n",
       "      <th>2007-03-01</th>\n",
       "      <td>-0.000191</td>\n",
       "      <td>-0.046030</td>\n",
       "      <td>-0.003825</td>\n",
       "      <td>-0.938032</td>\n",
       "    </tr>\n",
       "    <tr>\n",
       "      <th>2007-03-08</th>\n",
       "      <td>0.000750</td>\n",
       "      <td>-0.029173</td>\n",
       "      <td>0.014990</td>\n",
       "      <td>-0.590384</td>\n",
       "    </tr>\n",
       "  </tbody>\n",
       "</table>\n",
       "</div>"
      ],
      "text/plain": [
       "            Returns_1  Returns_2  Returns_1_pct  Returns_2_pct\n",
       "Date                                                          \n",
       "2007-03-01  -0.000191  -0.046030      -0.003825      -0.938032\n",
       "2007-03-08   0.000750  -0.029173       0.014990      -0.590384"
      ]
     },
     "execution_count": 8,
     "metadata": {},
     "output_type": "execute_result"
    }
   ],
   "source": [
    "df40.head(2)     "
   ]
  },
  {
   "cell_type": "code",
   "execution_count": 9,
   "metadata": {},
   "outputs": [],
   "source": [
    "PNL40 = df40.cumsum()\n",
    "PNL90 = df90.cumsum() \n",
    "PNL180 = df180.cumsum() "
   ]
  },
  {
   "cell_type": "code",
   "execution_count": 10,
   "metadata": {},
   "outputs": [
    {
     "data": {
      "image/png": "[encoded data removed]",
      "text/plain": [
       "<Figure size 576x342 with 1 Axes>"
      ]
     },
     "metadata": {
      "needs_background": "light"
     },
     "output_type": "display_data"
    }
   ],
   "source": [
    "\n",
    "#with plt.style.context('seaborn-whitegrid'):\n",
    "with plt.style.context('science'):\n",
    "    fig, ax = plt.subplots(figsize=(8 , 4.75))\n",
    "    \n",
    "    plt.plot(PNL40[['Returns_1']], label = '(ST - 40 day)', color = '#c90e0e')  # red\n",
    "    plt.plot(PNL90[['Returns_1']], label = '(MT - 90 day)', color = '#0e49c9')  # blue\n",
    "    plt.plot(PNL180[['Returns_1']], label = '(LT - 180 day)', color = 'green')   # green\n",
    "    plt.plot(spy_PNL[['SPY']], label ='SPY', color = '#000308',  linewidth = 1.0)\n",
    "\n",
    "    plt.ylabel(\"Cumulative Stock Returns\", fontsize = 14) \n",
    "    plt.xlabel(\"Time\", fontsize = 14)\n",
    "    plt.title(\"Strategy I \\n \\n\",  fontsize = 14)\n",
    "    \n",
    "    plt.yticks(fontsize = 13) \n",
    "    plt.xticks(fontsize = 13) \n",
    "    plt.legend(bbox_to_anchor=(.01, 1.14), loc='upper left', ncol = 4, fancybox = True, shadow = True, frameon  = True, fontsize = 12)\n",
    "    plt.ylim(-.5 , 1.5)\n",
    "    \n",
    "    \n",
    "    plt.tight_layout()       \n",
    "    plt.savefig('plots/Compare_Trends_I_lambda_7.jpg', dpi = 550 ) \n",
    "    \n",
    "    plt.show() \n",
    "    "
   ]
  },
  {
   "cell_type": "code",
   "execution_count": 11,
   "metadata": {},
   "outputs": [
    {
     "data": {
      "image/png": "[encoded data removed]",
      "text/plain": [
       "<Figure size 576x342 with 1 Axes>"
      ]
     },
     "metadata": {
      "needs_background": "light"
     },
     "output_type": "display_data"
    }
   ],
   "source": [
    "\n",
    "#with plt.style.context('seaborn-whitegrid'):\n",
    "with plt.style.context('science'):\n",
    "    fig, ax = plt.subplots(figsize=(8 , 4.75))\n",
    "    \n",
    "    plt.plot(PNL40[['Returns_2']], label = '(ST - 40 day)', color = '#c90e0e')  # red\n",
    "    plt.plot(PNL90[['Returns_2']], label = '(MT - 90 day)', color = '#0e49c9')  # blue\n",
    "    plt.plot(PNL180[['Returns_2']], label = '(LT - 180 day)', color = 'green')   # green\n",
    "    plt.plot(spy_PNL[['SPY']], label ='SPY', color = '#000308',  linewidth = 1.0)\n",
    "\n",
    "    plt.ylabel(\"Cumulative Stock Returns\", fontsize = 14) \n",
    "    plt.xlabel(\"Time\", fontsize = 14)\n",
    "    plt.title(\"Strategy II \\n \\n\",  fontsize = 14)\n",
    "    \n",
    "    plt.yticks(fontsize = 13) \n",
    "    plt.xticks(fontsize = 13) \n",
    "    plt.legend(bbox_to_anchor=(.01, 1.14), loc='upper left', ncol = 4, fancybox = True, shadow = True, frameon  = True, fontsize = 12)\n",
    "    #plt.ylim(-.9 , .7)\n",
    "    \n",
    "    plt.tight_layout()       \n",
    "    plt.savefig('plots/Compare_Trends_II_lambda_7.jpg', dpi = 550 ) \n",
    "    \n",
    "    plt.show() "
   ]
  },
  {
   "cell_type": "code",
   "execution_count": 12,
   "metadata": {},
   "outputs": [
    {
     "data": {
      "image/png": "[encoded data removed]",
      "text/plain": [
       "<Figure size 720x288 with 3 Axes>"
      ]
     },
     "metadata": {
      "needs_background": "light"
     },
     "output_type": "display_data"
    }
   ],
   "source": [
    "\n",
    "# Strategy 1\n",
    "\n",
    "with plt.style.context('science'):\n",
    "    fig, (ax1, ax2, ax3) = plt.subplots(1, 3, figsize = (10, 4))\n",
    "\n",
    "    # ST 40 day  \n",
    "    for label in (ax1.get_xticklabels() + ax1.get_yticklabels()): label.set_fontsize(11)\n",
    "    ax1.hist(df40['Returns_1_pct'], bins = 45  , color = '#145cba', edgecolor = \"#fafbfc\", label = 'ST (40 day)')\n",
    "    ax1.set_ylabel('Count' , fontsize = 12); ax1.set_xlabel('Daily Returns (\\%)', fontsize = 12)\n",
    "    ax1.set_xlim(-.4, .4)\n",
    "    ax1.legend(bbox_to_anchor=(.15, 1.2), loc='upper left', ncol = 3, fancybox = True, shadow = True, frameon  = True, fontsize = 12)\n",
    "\n",
    "    # MT 90 day  \n",
    "    for label in (ax2.get_xticklabels() + ax2.get_yticklabels()): label.set_fontsize(11)\n",
    "    ax2.hist(df90['Returns_1_pct'], bins = 45  , color = '#145cba', edgecolor = \"#fafbfc\", label = 'MT (90 day)')\n",
    "    ax2.set_ylabel('' , fontsize = 12); ax2.set_xlabel('Daily Returns (\\%)', fontsize = 12)\n",
    "    ax2.set_xlim(-.04, .04)\n",
    "    ax2.legend(bbox_to_anchor=(.15, 1.2), loc='upper left', ncol = 3, fancybox = True, shadow = True, frameon  = True, fontsize = 12)\n",
    "\n",
    "    # LT 180 day  \n",
    "    for label in (ax3.get_xticklabels() + ax3.get_yticklabels()): label.set_fontsize(11)\n",
    "    ax3.hist(df180['Returns_1_pct'], bins = 45  , color = '#145cba', edgecolor = \"#fafbfc\", label = 'LT (180 day)')\n",
    "    ax3.set_ylabel('' , fontsize = 12); ax3.set_xlabel('Daily Returns (\\%)', fontsize = 12)\n",
    "    ax3.set_xlim(-.04, .04)\n",
    "    ax3.legend(bbox_to_anchor=(.15, 1.2), loc='upper left', ncol = 3, fancybox = True, shadow = True, frameon  = True, fontsize = 12)\n",
    "    \n",
    "    fig.suptitle('Histogram', fontsize = 14)\n",
    "    plt.tight_layout() \n",
    "    #plt.savefig('plots/hist_I_lambda_7.jpg', dpi = 550)\n",
    "    plt.show()\n",
    "\n"
   ]
  },
  {
   "cell_type": "code",
   "execution_count": 13,
   "metadata": {},
   "outputs": [],
   "source": [
    "def summary(df, col_name):\n",
    "    from scipy.stats import skew,kurtosis\n",
    "    table = pd.DataFrame({ 'Mean': np.mean(df[[col_name]]) , \n",
    "                           'STD': np.std(df[[col_name]] ) ,  \n",
    "                           'SKEW': skew(df[[col_name]]) ,  \n",
    "                           'KURT': kurtosis(df[[col_name]]) })\n",
    "\n",
    "    return(table)"
   ]
  },
  {
   "cell_type": "code",
   "execution_count": 14,
   "metadata": {},
   "outputs": [
    {
     "data": {
      "text/html": [
       "<div>\n",
       "<style scoped>\n",
       "    .dataframe tbody tr th:only-of-type {\n",
       "        vertical-align: middle;\n",
       "    }\n",
       "\n",
       "    .dataframe tbody tr th {\n",
       "        vertical-align: top;\n",
       "    }\n",
       "\n",
       "    .dataframe thead th {\n",
       "        text-align: right;\n",
       "    }\n",
       "</style>\n",
       "<table border=\"1\" class=\"dataframe\">\n",
       "  <thead>\n",
       "    <tr style=\"text-align: right;\">\n",
       "      <th></th>\n",
       "      <th>Mean</th>\n",
       "      <th>STD</th>\n",
       "      <th>SKEW</th>\n",
       "      <th>KURT</th>\n",
       "    </tr>\n",
       "  </thead>\n",
       "  <tbody>\n",
       "    <tr>\n",
       "      <th>Returns_1_pct</th>\n",
       "      <td>-0.008107</td>\n",
       "      <td>0.201654</td>\n",
       "      <td>-6.78312</td>\n",
       "      <td>77.957127</td>\n",
       "    </tr>\n",
       "  </tbody>\n",
       "</table>\n",
       "</div>"
      ],
      "text/plain": [
       "                   Mean       STD     SKEW       KURT\n",
       "Returns_1_pct -0.008107  0.201654 -6.78312  77.957127"
      ]
     },
     "execution_count": 14,
     "metadata": {},
     "output_type": "execute_result"
    }
   ],
   "source": [
    "summary(df40, 'Returns_1_pct') "
   ]
  },
  {
   "cell_type": "code",
   "execution_count": 15,
   "metadata": {},
   "outputs": [
    {
     "data": {
      "text/html": [
       "<div>\n",
       "<style scoped>\n",
       "    .dataframe tbody tr th:only-of-type {\n",
       "        vertical-align: middle;\n",
       "    }\n",
       "\n",
       "    .dataframe tbody tr th {\n",
       "        vertical-align: top;\n",
       "    }\n",
       "\n",
       "    .dataframe thead th {\n",
       "        text-align: right;\n",
       "    }\n",
       "</style>\n",
       "<table border=\"1\" class=\"dataframe\">\n",
       "  <thead>\n",
       "    <tr style=\"text-align: right;\">\n",
       "      <th></th>\n",
       "      <th>Mean</th>\n",
       "      <th>STD</th>\n",
       "      <th>SKEW</th>\n",
       "      <th>KURT</th>\n",
       "    </tr>\n",
       "  </thead>\n",
       "  <tbody>\n",
       "    <tr>\n",
       "      <th>Returns_1_pct</th>\n",
       "      <td>0.002176</td>\n",
       "      <td>0.010073</td>\n",
       "      <td>-2.589913</td>\n",
       "      <td>49.715804</td>\n",
       "    </tr>\n",
       "  </tbody>\n",
       "</table>\n",
       "</div>"
      ],
      "text/plain": [
       "                   Mean       STD      SKEW       KURT\n",
       "Returns_1_pct  0.002176  0.010073 -2.589913  49.715804"
      ]
     },
     "execution_count": 15,
     "metadata": {},
     "output_type": "execute_result"
    }
   ],
   "source": [
    "summary(df90, 'Returns_1_pct') "
   ]
  },
  {
   "cell_type": "code",
   "execution_count": 16,
   "metadata": {},
   "outputs": [
    {
     "data": {
      "text/html": [
       "<div>\n",
       "<style scoped>\n",
       "    .dataframe tbody tr th:only-of-type {\n",
       "        vertical-align: middle;\n",
       "    }\n",
       "\n",
       "    .dataframe tbody tr th {\n",
       "        vertical-align: top;\n",
       "    }\n",
       "\n",
       "    .dataframe thead th {\n",
       "        text-align: right;\n",
       "    }\n",
       "</style>\n",
       "<table border=\"1\" class=\"dataframe\">\n",
       "  <thead>\n",
       "    <tr style=\"text-align: right;\">\n",
       "      <th></th>\n",
       "      <th>Mean</th>\n",
       "      <th>STD</th>\n",
       "      <th>SKEW</th>\n",
       "      <th>KURT</th>\n",
       "    </tr>\n",
       "  </thead>\n",
       "  <tbody>\n",
       "    <tr>\n",
       "      <th>Returns_1_pct</th>\n",
       "      <td>0.002072</td>\n",
       "      <td>0.007964</td>\n",
       "      <td>0.928839</td>\n",
       "      <td>9.276048</td>\n",
       "    </tr>\n",
       "  </tbody>\n",
       "</table>\n",
       "</div>"
      ],
      "text/plain": [
       "                   Mean       STD      SKEW      KURT\n",
       "Returns_1_pct  0.002072  0.007964  0.928839  9.276048"
      ]
     },
     "execution_count": 16,
     "metadata": {},
     "output_type": "execute_result"
    }
   ],
   "source": [
    "summary(df180, 'Returns_1_pct')  "
   ]
  },
  {
   "cell_type": "code",
   "execution_count": 17,
   "metadata": {},
   "outputs": [
    {
     "data": {
      "image/png": "[encoded data removed]",
      "text/plain": [
       "<Figure size 720x288 with 3 Axes>"
      ]
     },
     "metadata": {
      "needs_background": "light"
     },
     "output_type": "display_data"
    }
   ],
   "source": [
    "\n",
    "with plt.style.context('science'):\n",
    "    fig, (ax1, ax2, ax3) = plt.subplots(1, 3, figsize = (10, 4))\n",
    "\n",
    "    # ST 40 day  \n",
    "    for label in (ax1.get_xticklabels() + ax1.get_yticklabels()): label.set_fontsize(11)\n",
    "    ax1.hist(df40['Returns_2_pct'], bins = 25  , color = '#145cba', edgecolor = \"#fafbfc\", label = 'ST (40 day)')\n",
    "    ax1.set_ylabel('Count' , fontsize = 12); ax1.set_xlabel('Daily Returns (\\%)', fontsize = 12)\n",
    "    ax1.set_xlim(-2, 2.0)\n",
    "    ax1.legend(bbox_to_anchor=(.15, 1.2), loc='upper left', ncol = 3, fancybox = True, shadow = True, frameon  = True, fontsize = 12)\n",
    "\n",
    "    # MT 90 day  \n",
    "    for label in (ax2.get_xticklabels() + ax2.get_yticklabels()): label.set_fontsize(11)\n",
    "    ax2.hist(df90['Returns_2_pct'], bins = 45  , color = '#145cba', edgecolor = \"#fafbfc\", label = 'MT (90 day)')\n",
    "    ax2.set_ylabel('' , fontsize = 12); ax2.set_xlabel('Daily Returns (\\%)', fontsize = 12)\n",
    "    ax2.set_xlim(-2, 2)\n",
    "    ax2.legend(bbox_to_anchor=(.15, 1.2), loc='upper left', ncol = 3, fancybox = True, shadow = True, frameon  = True, fontsize = 12)\n",
    "\n",
    "\n",
    "    # LT 180 day  \n",
    "    for label in (ax3.get_xticklabels() + ax3.get_yticklabels()): label.set_fontsize(11)\n",
    "    ax3.hist(df180['Returns_2_pct'], bins = 25  , color = '#145cba', edgecolor = \"#fafbfc\", label = 'LT (180 day)')\n",
    "    ax3.set_ylabel('' , fontsize = 12); ax3.set_xlabel('Daily Returns (\\%)', fontsize = 12)\n",
    "    ax3.set_xlim(-2, 2)\n",
    "    ax3.legend(bbox_to_anchor=(.15, 1.2), loc='upper left', ncol = 3, fancybox = True, shadow = True, frameon  = True, fontsize = 12)\n",
    "    \n",
    "    fig.suptitle('Histogram', fontsize = 14)\n",
    "    plt.tight_layout()\n",
    "    #plt.savefig('plots/hist_II_lambda_7.jpg', dpi = 550)\n",
    "    plt.show()"
   ]
  },
  {
   "cell_type": "code",
   "execution_count": 18,
   "metadata": {},
   "outputs": [
    {
     "data": {
      "text/html": [
       "<div>\n",
       "<style scoped>\n",
       "    .dataframe tbody tr th:only-of-type {\n",
       "        vertical-align: middle;\n",
       "    }\n",
       "\n",
       "    .dataframe tbody tr th {\n",
       "        vertical-align: top;\n",
       "    }\n",
       "\n",
       "    .dataframe thead th {\n",
       "        text-align: right;\n",
       "    }\n",
       "</style>\n",
       "<table border=\"1\" class=\"dataframe\">\n",
       "  <thead>\n",
       "    <tr style=\"text-align: right;\">\n",
       "      <th></th>\n",
       "      <th>Mean</th>\n",
       "      <th>STD</th>\n",
       "      <th>SKEW</th>\n",
       "      <th>KURT</th>\n",
       "    </tr>\n",
       "  </thead>\n",
       "  <tbody>\n",
       "    <tr>\n",
       "      <th>Returns_2_pct</th>\n",
       "      <td>0.063174</td>\n",
       "      <td>1.0588</td>\n",
       "      <td>-0.665888</td>\n",
       "      <td>3.752661</td>\n",
       "    </tr>\n",
       "  </tbody>\n",
       "</table>\n",
       "</div>"
      ],
      "text/plain": [
       "                   Mean     STD      SKEW      KURT\n",
       "Returns_2_pct  0.063174  1.0588 -0.665888  3.752661"
      ]
     },
     "execution_count": 18,
     "metadata": {},
     "output_type": "execute_result"
    }
   ],
   "source": [
    "summary(df40, 'Returns_2_pct') "
   ]
  },
  {
   "cell_type": "code",
   "execution_count": 19,
   "metadata": {},
   "outputs": [
    {
     "data": {
      "text/html": [
       "<div>\n",
       "<style scoped>\n",
       "    .dataframe tbody tr th:only-of-type {\n",
       "        vertical-align: middle;\n",
       "    }\n",
       "\n",
       "    .dataframe tbody tr th {\n",
       "        vertical-align: top;\n",
       "    }\n",
       "\n",
       "    .dataframe thead th {\n",
       "        text-align: right;\n",
       "    }\n",
       "</style>\n",
       "<table border=\"1\" class=\"dataframe\">\n",
       "  <thead>\n",
       "    <tr style=\"text-align: right;\">\n",
       "      <th></th>\n",
       "      <th>Mean</th>\n",
       "      <th>STD</th>\n",
       "      <th>SKEW</th>\n",
       "      <th>KURT</th>\n",
       "    </tr>\n",
       "  </thead>\n",
       "  <tbody>\n",
       "    <tr>\n",
       "      <th>Returns_2_pct</th>\n",
       "      <td>0.06697</td>\n",
       "      <td>1.056941</td>\n",
       "      <td>-0.111833</td>\n",
       "      <td>6.207317</td>\n",
       "    </tr>\n",
       "  </tbody>\n",
       "</table>\n",
       "</div>"
      ],
      "text/plain": [
       "                  Mean       STD      SKEW      KURT\n",
       "Returns_2_pct  0.06697  1.056941 -0.111833  6.207317"
      ]
     },
     "execution_count": 19,
     "metadata": {},
     "output_type": "execute_result"
    }
   ],
   "source": [
    "summary(df90, 'Returns_2_pct')  "
   ]
  },
  {
   "cell_type": "code",
   "execution_count": 20,
   "metadata": {},
   "outputs": [
    {
     "data": {
      "text/html": [
       "<div>\n",
       "<style scoped>\n",
       "    .dataframe tbody tr th:only-of-type {\n",
       "        vertical-align: middle;\n",
       "    }\n",
       "\n",
       "    .dataframe tbody tr th {\n",
       "        vertical-align: top;\n",
       "    }\n",
       "\n",
       "    .dataframe thead th {\n",
       "        text-align: right;\n",
       "    }\n",
       "</style>\n",
       "<table border=\"1\" class=\"dataframe\">\n",
       "  <thead>\n",
       "    <tr style=\"text-align: right;\">\n",
       "      <th></th>\n",
       "      <th>Mean</th>\n",
       "      <th>STD</th>\n",
       "      <th>SKEW</th>\n",
       "      <th>KURT</th>\n",
       "    </tr>\n",
       "  </thead>\n",
       "  <tbody>\n",
       "    <tr>\n",
       "      <th>Returns_2_pct</th>\n",
       "      <td>0.029028</td>\n",
       "      <td>0.959443</td>\n",
       "      <td>-0.243084</td>\n",
       "      <td>2.913228</td>\n",
       "    </tr>\n",
       "  </tbody>\n",
       "</table>\n",
       "</div>"
      ],
      "text/plain": [
       "                   Mean       STD      SKEW      KURT\n",
       "Returns_2_pct  0.029028  0.959443 -0.243084  2.913228"
      ]
     },
     "execution_count": 20,
     "metadata": {},
     "output_type": "execute_result"
    }
   ],
   "source": [
    "summary(df180, 'Returns_2_pct')  "
   ]
  },
  {
   "cell_type": "markdown",
   "metadata": {},
   "source": [
    "---\n",
    "\n",
    "#### Summary Table\n",
    "\n"
   ]
  },
  {
   "cell_type": "code",
   "execution_count": 21,
   "metadata": {},
   "outputs": [],
   "source": [
    "from scipy.stats import skew, kurtosis, norm\n",
    "\n",
    "sample_returns = [0.02,0.01,-0.04,0.06,-0.01,0.02,0,0,-0.02,0.01,-0.02,0,0,-0.01,0.01,-0.026]\n",
    "\n",
    "def arithmetic_mean_returns(returns): return sum(returns)/len(returns)\n",
    "def geometric_mean_returns(returns): return np.product(1+np.array(returns))**(1/len(returns))-1\n",
    "#def sharpe_ratio(returns,rf): return ((1+np.mean(returns))**365-1-rf)/np.std(returns)\n",
    "def sharpe_ratio(returns, rf): return( np.mean(returns) / np.std(returns) )\n",
    "def skewness(returns): return skew(returns)\n",
    "def stock_kurtosis(returns): return kurtosis(returns) # excess kurtosis\n",
    "def min_return(returns): return np.min(returns)\n",
    "def annual_volatility(returns): return np.std(returns) * (52)**0.5\n",
    "def var_95(returns): return norm.ppf(0.05, np.mean(returns), np.std(returns))\n",
    "def emp_var_95(returns): return np.percentile(returns, 100 * 0.05)\n",
    "def emp_cvar_95(returns): return np.nanmean(returns[returns < emp_var_95(returns)])\n",
    "def get_daily_returns(returns): return [(np.array(returns)+1)**(1/5)-1]\n",
    "\n"
   ]
  },
  {
   "cell_type": "code",
   "execution_count": 39,
   "metadata": {},
   "outputs": [],
   "source": [
    "def create_summary(returns, window):\n",
    "    rf = 0.0  \n",
    "    summary_table = pd.DataFrame({\n",
    "        'MEAN_RETURN':np.mean(returns),\n",
    "        #'GEOMETRIC_MEAN_RETURN': geometric_mean_returns(returns),\n",
    "        'SHARPE_RATIO': sharpe_ratio(returns,rf) ,\n",
    "        'SKEWNESS':skewness(returns),\n",
    "        'KURTOSIS':stock_kurtosis(returns),\n",
    "        'MIN_RETURN':min_return(returns),\n",
    "        'VOLATILITY_(ANNUAL)': annual_volatility(returns),\n",
    "        'VaR_(95)': var_95(returns),\n",
    "        'EMP_VaR':emp_var_95(returns),\n",
    "        'EMP_cVaR':emp_cvar_95(returns)})   \n",
    "    summary_table = summary_table.T\n",
    "    summary_table = summary_table.reset_index()\n",
    "    summary_table.columns = ['INDEX','RESULTS_'+str(window)+'_DAY']\n",
    "    \n",
    "    return(summary_table)"
   ]
  },
  {
   "cell_type": "code",
   "execution_count": 62,
   "metadata": {},
   "outputs": [],
   "source": [
    "s1 = create_summary( df40[['Returns_1_pct']] ,'40') \n",
    "s2 = create_summary( df90[['Returns_1_pct']] , '90') \n",
    "s3 = create_summary( df180[['Returns_1_pct']], '180') \n",
    "\n",
    "FINAL_TABLE = pd.merge(s1, s2, how = 'inner', left_on = 'INDEX' , right_on = 'INDEX' )\n",
    "FINAL_TABLE_I = pd.merge(FINAL_TABLE, s3, how='inner', left_on='INDEX', right_on='INDEX')    "
   ]
  },
  {
   "cell_type": "code",
   "execution_count": 63,
   "metadata": {},
   "outputs": [
    {
     "data": {
      "text/html": [
       "<div>\n",
       "<style scoped>\n",
       "    .dataframe tbody tr th:only-of-type {\n",
       "        vertical-align: middle;\n",
       "    }\n",
       "\n",
       "    .dataframe tbody tr th {\n",
       "        vertical-align: top;\n",
       "    }\n",
       "\n",
       "    .dataframe thead th {\n",
       "        text-align: right;\n",
       "    }\n",
       "</style>\n",
       "<table border=\"1\" class=\"dataframe\">\n",
       "  <thead>\n",
       "    <tr style=\"text-align: right;\">\n",
       "      <th></th>\n",
       "      <th>INDEX</th>\n",
       "      <th>RESULTS_40_DAY</th>\n",
       "      <th>RESULTS_90_DAY</th>\n",
       "      <th>RESULTS_180_DAY</th>\n",
       "    </tr>\n",
       "  </thead>\n",
       "  <tbody>\n",
       "    <tr>\n",
       "      <th>0</th>\n",
       "      <td>MEAN_RETURN</td>\n",
       "      <td>-0.008107</td>\n",
       "      <td>0.002176</td>\n",
       "      <td>0.002072</td>\n",
       "    </tr>\n",
       "    <tr>\n",
       "      <th>1</th>\n",
       "      <td>SHARPE_RATIO</td>\n",
       "      <td>-0.040204</td>\n",
       "      <td>0.215968</td>\n",
       "      <td>0.260195</td>\n",
       "    </tr>\n",
       "    <tr>\n",
       "      <th>2</th>\n",
       "      <td>SKEWNESS</td>\n",
       "      <td>-6.783120</td>\n",
       "      <td>-2.589913</td>\n",
       "      <td>0.928839</td>\n",
       "    </tr>\n",
       "    <tr>\n",
       "      <th>3</th>\n",
       "      <td>KURTOSIS</td>\n",
       "      <td>77.957127</td>\n",
       "      <td>49.715804</td>\n",
       "      <td>9.276048</td>\n",
       "    </tr>\n",
       "    <tr>\n",
       "      <th>4</th>\n",
       "      <td>MIN_RETURN</td>\n",
       "      <td>-2.805527</td>\n",
       "      <td>-0.137951</td>\n",
       "      <td>-0.040227</td>\n",
       "    </tr>\n",
       "    <tr>\n",
       "      <th>5</th>\n",
       "      <td>VOLATILITY_(ANNUAL)</td>\n",
       "      <td>1.454145</td>\n",
       "      <td>0.072639</td>\n",
       "      <td>0.057427</td>\n",
       "    </tr>\n",
       "    <tr>\n",
       "      <th>6</th>\n",
       "      <td>VaR_(95)</td>\n",
       "      <td>-0.339798</td>\n",
       "      <td>-0.014394</td>\n",
       "      <td>-0.011027</td>\n",
       "    </tr>\n",
       "    <tr>\n",
       "      <th>7</th>\n",
       "      <td>EMP_VaR</td>\n",
       "      <td>-0.078777</td>\n",
       "      <td>-0.008213</td>\n",
       "      <td>-0.007298</td>\n",
       "    </tr>\n",
       "    <tr>\n",
       "      <th>8</th>\n",
       "      <td>EMP_cVaR</td>\n",
       "      <td>-0.519536</td>\n",
       "      <td>-0.018728</td>\n",
       "      <td>-0.014502</td>\n",
       "    </tr>\n",
       "  </tbody>\n",
       "</table>\n",
       "</div>"
      ],
      "text/plain": [
       "                 INDEX  RESULTS_40_DAY  RESULTS_90_DAY  RESULTS_180_DAY\n",
       "0          MEAN_RETURN       -0.008107        0.002176         0.002072\n",
       "1         SHARPE_RATIO       -0.040204        0.215968         0.260195\n",
       "2             SKEWNESS       -6.783120       -2.589913         0.928839\n",
       "3             KURTOSIS       77.957127       49.715804         9.276048\n",
       "4           MIN_RETURN       -2.805527       -0.137951        -0.040227\n",
       "5  VOLATILITY_(ANNUAL)        1.454145        0.072639         0.057427\n",
       "6             VaR_(95)       -0.339798       -0.014394        -0.011027\n",
       "7              EMP_VaR       -0.078777       -0.008213        -0.007298\n",
       "8             EMP_cVaR       -0.519536       -0.018728        -0.014502"
      ]
     },
     "execution_count": 63,
     "metadata": {},
     "output_type": "execute_result"
    }
   ],
   "source": [
    "FINAL_TABLE_I   "
   ]
  },
  {
   "cell_type": "code",
   "execution_count": 64,
   "metadata": {},
   "outputs": [
    {
     "data": {
      "text/html": [
       "<div>\n",
       "<style scoped>\n",
       "    .dataframe tbody tr th:only-of-type {\n",
       "        vertical-align: middle;\n",
       "    }\n",
       "\n",
       "    .dataframe tbody tr th {\n",
       "        vertical-align: top;\n",
       "    }\n",
       "\n",
       "    .dataframe thead th {\n",
       "        text-align: right;\n",
       "    }\n",
       "</style>\n",
       "<table border=\"1\" class=\"dataframe\">\n",
       "  <thead>\n",
       "    <tr style=\"text-align: right;\">\n",
       "      <th></th>\n",
       "      <th>INDEX</th>\n",
       "      <th>RESULTS_40_DAY</th>\n",
       "      <th>RESULTS_90_DAY</th>\n",
       "      <th>RESULTS_180_DAY</th>\n",
       "    </tr>\n",
       "  </thead>\n",
       "  <tbody>\n",
       "    <tr>\n",
       "      <th>0</th>\n",
       "      <td>MEAN_RETURN</td>\n",
       "      <td>0.063174</td>\n",
       "      <td>0.066970</td>\n",
       "      <td>0.029028</td>\n",
       "    </tr>\n",
       "    <tr>\n",
       "      <th>1</th>\n",
       "      <td>SHARPE_RATIO</td>\n",
       "      <td>0.059666</td>\n",
       "      <td>0.063362</td>\n",
       "      <td>0.030255</td>\n",
       "    </tr>\n",
       "    <tr>\n",
       "      <th>2</th>\n",
       "      <td>SKEWNESS</td>\n",
       "      <td>-0.665888</td>\n",
       "      <td>-0.111833</td>\n",
       "      <td>-0.243084</td>\n",
       "    </tr>\n",
       "    <tr>\n",
       "      <th>3</th>\n",
       "      <td>KURTOSIS</td>\n",
       "      <td>3.752661</td>\n",
       "      <td>6.207317</td>\n",
       "      <td>2.913228</td>\n",
       "    </tr>\n",
       "    <tr>\n",
       "      <th>4</th>\n",
       "      <td>MIN_RETURN</td>\n",
       "      <td>-5.265824</td>\n",
       "      <td>-5.745942</td>\n",
       "      <td>-4.351673</td>\n",
       "    </tr>\n",
       "    <tr>\n",
       "      <th>5</th>\n",
       "      <td>VOLATILITY_(ANNUAL)</td>\n",
       "      <td>7.635113</td>\n",
       "      <td>7.621707</td>\n",
       "      <td>6.918645</td>\n",
       "    </tr>\n",
       "    <tr>\n",
       "      <th>6</th>\n",
       "      <td>VaR_(95)</td>\n",
       "      <td>-1.678397</td>\n",
       "      <td>-1.671543</td>\n",
       "      <td>-1.549116</td>\n",
       "    </tr>\n",
       "    <tr>\n",
       "      <th>7</th>\n",
       "      <td>EMP_VaR</td>\n",
       "      <td>-1.642997</td>\n",
       "      <td>-1.505323</td>\n",
       "      <td>-1.590313</td>\n",
       "    </tr>\n",
       "    <tr>\n",
       "      <th>8</th>\n",
       "      <td>EMP_cVaR</td>\n",
       "      <td>-2.609752</td>\n",
       "      <td>-2.479549</td>\n",
       "      <td>-2.256706</td>\n",
       "    </tr>\n",
       "  </tbody>\n",
       "</table>\n",
       "</div>"
      ],
      "text/plain": [
       "                 INDEX  RESULTS_40_DAY  RESULTS_90_DAY  RESULTS_180_DAY\n",
       "0          MEAN_RETURN        0.063174        0.066970         0.029028\n",
       "1         SHARPE_RATIO        0.059666        0.063362         0.030255\n",
       "2             SKEWNESS       -0.665888       -0.111833        -0.243084\n",
       "3             KURTOSIS        3.752661        6.207317         2.913228\n",
       "4           MIN_RETURN       -5.265824       -5.745942        -4.351673\n",
       "5  VOLATILITY_(ANNUAL)        7.635113        7.621707         6.918645\n",
       "6             VaR_(95)       -1.678397       -1.671543        -1.549116\n",
       "7              EMP_VaR       -1.642997       -1.505323        -1.590313\n",
       "8             EMP_cVaR       -2.609752       -2.479549        -2.256706"
      ]
     },
     "execution_count": 64,
     "metadata": {},
     "output_type": "execute_result"
    }
   ],
   "source": [
    "s1 = create_summary( df40[['Returns_2_pct']] ,'40') \n",
    "s2 = create_summary( df90[['Returns_2_pct']] , '90') \n",
    "s3 = create_summary( df180[['Returns_2_pct']], '180')  \n",
    "\n",
    "FINAL_TABLE = pd.merge(s1, s2, how = 'inner', left_on = 'INDEX' , right_on = 'INDEX' )\n",
    "FINAL_TABLE_II = pd.merge(FINAL_TABLE, s3, how='inner', left_on='INDEX', right_on='INDEX')\n",
    "\n",
    "FINAL_TABLE_II"
   ]
  },
  {
   "cell_type": "code",
   "execution_count": 65,
   "metadata": {},
   "outputs": [
    {
     "data": {
      "text/html": [
       "<div>\n",
       "<style scoped>\n",
       "    .dataframe tbody tr th:only-of-type {\n",
       "        vertical-align: middle;\n",
       "    }\n",
       "\n",
       "    .dataframe tbody tr th {\n",
       "        vertical-align: top;\n",
       "    }\n",
       "\n",
       "    .dataframe thead th {\n",
       "        text-align: right;\n",
       "    }\n",
       "</style>\n",
       "<table border=\"1\" class=\"dataframe\">\n",
       "  <thead>\n",
       "    <tr style=\"text-align: right;\">\n",
       "      <th></th>\n",
       "      <th>INDEX</th>\n",
       "      <th>RESULTS_90_DAY_I</th>\n",
       "      <th>RESULTS_90_DAY_II</th>\n",
       "    </tr>\n",
       "  </thead>\n",
       "  <tbody>\n",
       "    <tr>\n",
       "      <th>0</th>\n",
       "      <td>MEAN_RETURN</td>\n",
       "      <td>0.002176</td>\n",
       "      <td>0.066970</td>\n",
       "    </tr>\n",
       "    <tr>\n",
       "      <th>1</th>\n",
       "      <td>SHARPE_RATIO</td>\n",
       "      <td>0.215968</td>\n",
       "      <td>0.063362</td>\n",
       "    </tr>\n",
       "    <tr>\n",
       "      <th>2</th>\n",
       "      <td>SKEWNESS</td>\n",
       "      <td>-2.589913</td>\n",
       "      <td>-0.111833</td>\n",
       "    </tr>\n",
       "    <tr>\n",
       "      <th>3</th>\n",
       "      <td>KURTOSIS</td>\n",
       "      <td>49.715804</td>\n",
       "      <td>6.207317</td>\n",
       "    </tr>\n",
       "    <tr>\n",
       "      <th>4</th>\n",
       "      <td>MIN_RETURN</td>\n",
       "      <td>-0.137951</td>\n",
       "      <td>-5.745942</td>\n",
       "    </tr>\n",
       "    <tr>\n",
       "      <th>5</th>\n",
       "      <td>VOLATILITY_(ANNUAL)</td>\n",
       "      <td>0.072639</td>\n",
       "      <td>7.621707</td>\n",
       "    </tr>\n",
       "    <tr>\n",
       "      <th>6</th>\n",
       "      <td>VaR_(95)</td>\n",
       "      <td>-0.014394</td>\n",
       "      <td>-1.671543</td>\n",
       "    </tr>\n",
       "    <tr>\n",
       "      <th>7</th>\n",
       "      <td>EMP_VaR</td>\n",
       "      <td>-0.008213</td>\n",
       "      <td>-1.505323</td>\n",
       "    </tr>\n",
       "    <tr>\n",
       "      <th>8</th>\n",
       "      <td>EMP_cVaR</td>\n",
       "      <td>-0.018728</td>\n",
       "      <td>-2.479549</td>\n",
       "    </tr>\n",
       "  </tbody>\n",
       "</table>\n",
       "</div>"
      ],
      "text/plain": [
       "                 INDEX  RESULTS_90_DAY_I  RESULTS_90_DAY_II\n",
       "0          MEAN_RETURN          0.002176           0.066970\n",
       "1         SHARPE_RATIO          0.215968           0.063362\n",
       "2             SKEWNESS         -2.589913          -0.111833\n",
       "3             KURTOSIS         49.715804           6.207317\n",
       "4           MIN_RETURN         -0.137951          -5.745942\n",
       "5  VOLATILITY_(ANNUAL)          0.072639           7.621707\n",
       "6             VaR_(95)         -0.014394          -1.671543\n",
       "7              EMP_VaR         -0.008213          -1.505323\n",
       "8             EMP_cVaR         -0.018728          -2.479549"
      ]
     },
     "execution_count": 65,
     "metadata": {},
     "output_type": "execute_result"
    }
   ],
   "source": [
    "FINAL_COMPARE = pd.merge(FINAL_TABLE_I[['INDEX', 'RESULTS_90_DAY']] , FINAL_TABLE_II[['INDEX', 'RESULTS_90_DAY']] , how = 'inner', left_on='INDEX', right_on='INDEX',suffixes=('_I', \"_II\"))\n",
    "FINAL_COMPARE   "
   ]
  },
  {
   "cell_type": "code",
   "execution_count": 66,
   "metadata": {},
   "outputs": [],
   "source": [
    "FINAL_TABLE_II = FINAL_TABLE_II[FINAL_TABLE_II['INDEX'].isin(['MEAN_RETURN','GEOMETRIC_MEAN_RETURN',  'KURTOSIS'])]\n",
    "FINAL_TABLE_I = FINAL_TABLE_I[FINAL_TABLE_I['INDEX'].isin(['MEAN_RETURN','GEOMETRIC_MEAN_RETURN',  'KURTOSIS'])] "
   ]
  },
  {
   "cell_type": "code",
   "execution_count": 67,
   "metadata": {},
   "outputs": [],
   "source": [
    "results_var = 'RESULTS_90_DAY'\n",
    "\n",
    "names = list(FINAL_TABLE_II['INDEX'].iloc[:3])\n",
    "\n",
    "strat1 = list(FINAL_TABLE_I[results_var].iloc[:3])\n",
    "strat2 = list(FINAL_TABLE_II[results_var].iloc[:3])\n",
    "\n"
   ]
  },
  {
   "cell_type": "code",
   "execution_count": 68,
   "metadata": {},
   "outputs": [
    {
     "data": {
      "image/png": "[encoded data removed]",
      "text/plain": [
       "<Figure size 288x216 with 1 Axes>"
      ]
     },
     "metadata": {
      "needs_background": "light"
     },
     "output_type": "display_data"
    }
   ],
   "source": [
    "with plt.style.context('science'):\n",
    "    fig, ax = plt.subplots(figsize=(4 , 3.0))\n",
    "\n",
    "    # Numbers of pairs of bars you want\n",
    "    N = len(names)\n",
    "\n",
    "    # Specify the values of blue bars (height)\n",
    "    blue_bar = strat1\n",
    "    # Specify the values of orange bars (height)\n",
    "    orange_bar = strat2\n",
    "\n",
    "    # Position of bars on x-axis\n",
    "    ind = np.arange(N)\n",
    "\n",
    "    # Width of a bar \n",
    "    width = 0.3       \n",
    "\n",
    "    # Plotting\n",
    "    plt.bar(ind, blue_bar , width, label='Strategy I', color = '#145cba')\n",
    "    plt.bar(ind + width, orange_bar, width, label='Strategy II', color = '#c90e0e')\n",
    "\n",
    "    plt.xlabel('')\n",
    "    plt.ylabel('')\n",
    "    plt.title('')\n",
    "\n",
    "    plt.xticks(ind + width / 2, names)\n",
    "\n",
    "    plt.legend(bbox_to_anchor=(.05, 1.2), loc='upper left', ncol = 2, fancybox = True, shadow = True, frameon  = True, fontsize = 11)\n",
    "    plt.tight_layout()\n",
    "    plt.savefig('plots/bar_chart_return_compare.jpg', dpi = 550)\n",
    "    plt.show()\n",
    "\n"
   ]
  },
  {
   "cell_type": "code",
   "execution_count": null,
   "metadata": {},
   "outputs": [],
   "source": []
  }
 ],
 "metadata": {
  "kernelspec": {
   "display_name": "Python 3.9.9 64-bit",
   "language": "python",
   "name": "python3"
  },
  "language_info": {
   "codemirror_mode": {
    "name": "ipython",
    "version": 3
   },
   "file_extension": ".py",
   "mimetype": "text/x-python",
   "name": "python",
   "nbconvert_exporter": "python",
   "pygments_lexer": "ipython3",
   "version": "3.9.9"
  },
  "orig_nbformat": 4,
  "vscode": {
   "interpreter": {
    "hash": "716494ec1fb2b77a42eedaac63697f1c016542dbc22302930eed5cdcf725770f"
   }
  }
 },
 "nbformat": 4,
 "nbformat_minor": 2
}
